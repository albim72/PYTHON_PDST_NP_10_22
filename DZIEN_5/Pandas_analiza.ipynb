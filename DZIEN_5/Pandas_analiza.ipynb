{
 "cells":[
  {
   "cell_type":"code",
   "source":[
    "import numpy as np\n",
    "import pandas as pd"
   ],
   "execution_count":2,
   "outputs":[
    
   ],
   "metadata":{
    "datalore":{
     "node_id":"wVXMYqXR2TUKIPQMXKxBPR",
     "type":"CODE",
     "hide_input_from_viewers":false,
     "hide_output_from_viewers":false
    }
   }
  },
  {
   "cell_type":"code",
   "source":[
    "s = pd.Series([1,2,3,np.nan,8,9])\n",
    "s"
   ],
   "execution_count":4,
   "outputs":[
    {
     "data":{
      "text\/html":[
       
      ]
     },
     "metadata":{
      
     },
     "output_type":"display_data"
    }
   ],
   "metadata":{
    "datalore":{
     "node_id":"zFbm9yaCQKaPsdj7cLiPVt",
     "type":"CODE",
     "hide_input_from_viewers":false,
     "hide_output_from_viewers":false
    }
   }
  },
  {
   "cell_type":"code",
   "source":[
    "daty = pd.date_range(\"20221007\",periods=6)\n",
    "daty"
   ],
   "execution_count":5,
   "outputs":[
    {
     "data":{
      "text\/plain":[
       "DatetimeIndex(['2022-10-07', '2022-10-08', '2022-10-09', '2022-10-10',\n",
       "               '2022-10-11', '2022-10-12'],\n",
       "              dtype='datetime64[ns]', freq='D')"
      ]
     },
     "metadata":{
      
     },
     "output_type":"display_data"
    }
   ],
   "metadata":{
    "datalore":{
     "node_id":"0m4Dp6aGjurdHeu136nrTE",
     "type":"CODE",
     "hide_input_from_viewers":false,
     "hide_output_from_viewers":false
    }
   }
  },
  {
   "cell_type":"code",
   "source":[
    "df = pd.DataFrame(np.random.randn(6,4), index=daty, columns=list(\"ABCD\"))\n",
    "df"
   ],
   "execution_count":6,
   "outputs":[
    {
     "data":{
      "text\/html":[
       "<div>\n",
       "<style scoped>\n",
       "    .dataframe tbody tr th:only-of-type {\n",
       "        vertical-align: middle;\n",
       "    }\n",
       "\n",
       "    .dataframe tbody tr th {\n",
       "        vertical-align: top;\n",
       "    }\n",
       "\n",
       "    .dataframe thead th {\n",
       "        text-align: right;\n",
       "    }\n",
       "<\/style>\n",
       "<table border=\"1\" class=\"dataframe\">\n",
       "  <thead>\n",
       "    <tr style=\"text-align: right;\">\n",
       "      <th><\/th>\n",
       "      <th>A<\/th>\n",
       "      <th>B<\/th>\n",
       "      <th>C<\/th>\n",
       "      <th>D<\/th>\n",
       "    <\/tr>\n",
       "  <\/thead>\n",
       "  <tbody>\n",
       "    <tr>\n",
       "      <th>2022-10-07<\/th>\n",
       "      <td>-0.386331<\/td>\n",
       "      <td>-1.127522<\/td>\n",
       "      <td>0.041254<\/td>\n",
       "      <td>0.355891<\/td>\n",
       "    <\/tr>\n",
       "    <tr>\n",
       "      <th>2022-10-08<\/th>\n",
       "      <td>1.285047<\/td>\n",
       "      <td>1.153262<\/td>\n",
       "      <td>0.744420<\/td>\n",
       "      <td>0.051233<\/td>\n",
       "    <\/tr>\n",
       "    <tr>\n",
       "      <th>2022-10-09<\/th>\n",
       "      <td>1.008051<\/td>\n",
       "      <td>-0.644912<\/td>\n",
       "      <td>0.276797<\/td>\n",
       "      <td>-1.008485<\/td>\n",
       "    <\/tr>\n",
       "    <tr>\n",
       "      <th>2022-10-10<\/th>\n",
       "      <td>-0.882600<\/td>\n",
       "      <td>0.654229<\/td>\n",
       "      <td>-0.565369<\/td>\n",
       "      <td>0.796648<\/td>\n",
       "    <\/tr>\n",
       "    <tr>\n",
       "      <th>2022-10-11<\/th>\n",
       "      <td>1.886799<\/td>\n",
       "      <td>0.547138<\/td>\n",
       "      <td>1.286751<\/td>\n",
       "      <td>0.508507<\/td>\n",
       "    <\/tr>\n",
       "    <tr>\n",
       "      <th>2022-10-12<\/th>\n",
       "      <td>-0.940131<\/td>\n",
       "      <td>0.321598<\/td>\n",
       "      <td>-0.837994<\/td>\n",
       "      <td>-2.389535<\/td>\n",
       "    <\/tr>\n",
       "  <\/tbody>\n",
       "<\/table>\n",
       "<\/div>"
      ]
     },
     "metadata":{
      
     },
     "output_type":"display_data"
    }
   ],
   "metadata":{
    "datalore":{
     "node_id":"OPd9tZZ8HyewHderlb9HLa",
     "type":"CODE",
     "hide_input_from_viewers":false,
     "hide_output_from_viewers":false
    }
   }
  }
 ],
 "metadata":{
  "kernelspec":{
   "display_name":"Python",
   "language":"python",
   "name":"python"
  },
  "datalore":{
   "version":1,
   "computation_mode":"JUPYTER",
   "package_manager":"pip",
   "base_environment":"default",
   "packages":[
    
   ]
  }
 },
 "nbformat":4,
 "nbformat_minor":4
}